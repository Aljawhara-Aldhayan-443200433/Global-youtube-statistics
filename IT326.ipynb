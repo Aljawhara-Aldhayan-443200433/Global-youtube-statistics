{
 "cells": [
  {
   "cell_type": "code",
   "execution_count": null,
   "id": "007f0517",
   "metadata": {},
   "outputs": [],
   "source": [
    "#\n",
    "#dataset<-read.csv(\"\")str(dataset)"
   ]
  }
 ],
 "metadata": {
  "kernelspec": {
   "display_name": "R",
   "language": "R",
   "name": "ir"
  },
  "language_info": {
   "codemirror_mode": "r",
   "file_extension": ".r",
   "mimetype": "text/x-r-source",
   "name": "R",
   "pygments_lexer": "r",
   "version": "3.6.1"
  }
 },
 "nbformat": 4,
 "nbformat_minor": 5
}
